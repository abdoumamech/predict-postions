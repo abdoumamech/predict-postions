{
  "nbformat": 4,
  "nbformat_minor": 0,
  "metadata": {
    "colab": {
      "provenance": []
    },
    "kernelspec": {
      "name": "python3",
      "display_name": "Python 3"
    },
    "language_info": {
      "name": "python"
    }
  },
  "cells": [
    {
      "cell_type": "code",
      "execution_count": 1,
      "metadata": {
        "id": "uns6mRNVpOyv"
      },
      "outputs": [],
      "source": [
        "import numpy as np\n",
        "import matplotlib.pyplot as plt\n",
        "import pandas as pd\n"
      ]
    },
    {
      "cell_type": "code",
      "source": [
        "data = pd.read_csv('2021.csv')\n",
        "data.head\n",
        "\n"
      ],
      "metadata": {
        "id": "Ddki7cuIqPtC"
      },
      "execution_count": null,
      "outputs": []
    },
    {
      "cell_type": "code",
      "source": [
        "attributes_to_drop = ['BirthDate', 'PreferredFoot', 'Natinality']\n",
        "data.dropna(axis=0)\n",
        "data['Club'].value_counts() > 20"
      ],
      "metadata": {
        "colab": {
          "base_uri": "https://localhost:8080/"
        },
        "id": "2lQG4klWqUb0",
        "outputId": "117229c9-d8b7-478a-d09e-2e2d45fde4a4"
      },
      "execution_count": 22,
      "outputs": [
        {
          "output_type": "execute_result",
          "data": {
            "text/plain": [
              "Free Agents          True\n",
              "FC Barcelona         True\n",
              "Genoa                True\n",
              "Angers SCO           True\n",
              "Granada CF           True\n",
              "                    ...  \n",
              "St. Johnstone FC    False\n",
              "São Paulo           False\n",
              "Al Hazem            False\n",
              "Al Adalah Club      False\n",
              "Al Fayha            False\n",
              "Name: Club, Length: 682, dtype: bool"
            ]
          },
          "metadata": {},
          "execution_count": 22
        }
      ]
    },
    {
      "cell_type": "code",
      "source": [
        "data.loc[0]\n",
        "data = data.drop(['BirthDate','Age','Nation','Club_KitNumber','Club_JoinedClub','Club_ContractLength'], axis=1)\n"
      ],
      "metadata": {
        "id": "u9B_xpAJqZ2U"
      },
      "execution_count": 23,
      "outputs": []
    },
    {
      "cell_type": "code",
      "source": [
        "data.loc[69]\n",
        "data=data.drop(['PreferredFoot','Natinality','Club_Position','Specialities','Traits'], axis=1)\n"
      ],
      "metadata": {
        "id": "ypZy5ZN9qf9w"
      },
      "execution_count": 24,
      "outputs": []
    },
    {
      "cell_type": "code",
      "source": [
        "data=data.drop(['Nation_Position'],axis=1)\n",
        "\n",
        "data=data.drop(['Nation_KitNumber'],axis=1)\n",
        "\n",
        "data = data[data['Overal']>70]\n",
        "data.shape"
      ],
      "metadata": {
        "id": "m-f74TfvqlLX",
        "colab": {
          "base_uri": "https://localhost:8080/"
        },
        "outputId": "846d6740-baf8-4bb8-84d9-6011ff494a62"
      },
      "execution_count": 25,
      "outputs": [
        {
          "output_type": "execute_result",
          "data": {
            "text/plain": [
              "(4587, 47)"
            ]
          },
          "metadata": {},
          "execution_count": 25
        }
      ]
    },
    {
      "cell_type": "code",
      "source": [
        "data=data.drop(['Height','Weight'],axis=1)\n",
        "data.shape"
      ],
      "metadata": {
        "colab": {
          "base_uri": "https://localhost:8080/"
        },
        "id": "_90sZ_BWqsri",
        "outputId": "1d1910d4-716b-4c98-dc17-ee4f9148d630"
      },
      "execution_count": 26,
      "outputs": [
        {
          "output_type": "execute_result",
          "data": {
            "text/plain": [
              "(4587, 45)"
            ]
          },
          "metadata": {},
          "execution_count": 26
        }
      ]
    },
    {
      "cell_type": "code",
      "source": [
        "M = data[data['PreferredPositions'].isin(['CM','CAM','CM/CAM','CDM/CAM','CDM/CAM/CM','CDM','CDM','CM/CDM','CDM/CM','CB/CM/CDM','LB/CM/CDM','RB/CM/CDM','CAM/CM/CDM','CAM/CM','CAM/CDM'])]\n",
        "data['PreferredPositions'] = data['PreferredPositions'].apply(lambda x: 1 if 'CM' in x else 0)\n"
      ],
      "metadata": {
        "id": "pJghofOyqwLW"
      },
      "execution_count": 27,
      "outputs": []
    },
    {
      "cell_type": "code",
      "source": [
        "data['PreferredPositions'].value_counts()\n",
        "data.head()"
      ],
      "metadata": {
        "id": "D9Qb9Sc_qzg2"
      },
      "execution_count": null,
      "outputs": []
    },
    {
      "cell_type": "code",
      "source": [
        "data =data.drop(['PlayerWorkRate','Club'], axis=1)\n",
        "\n",
        "data.loc[88]"
      ],
      "metadata": {
        "colab": {
          "base_uri": "https://localhost:8080/"
        },
        "id": "6yoYEDwtq4Mm",
        "outputId": "f050e5bf-6133-46d0-ae54-eabbd9067fc5"
      },
      "execution_count": 29,
      "outputs": [
        {
          "output_type": "execute_result",
          "data": {
            "text/plain": [
              "ID                        230142\n",
              "Name                   Oyarzabal\n",
              "Overal                        84\n",
              "Potential                     89\n",
              "PreferredPositions             0\n",
              "WeakFoot                       3\n",
              "SkillMoves                     3\n",
              "Value                 63500000.0\n",
              "Wage                     46000.0\n",
              "BallControl                   85\n",
              "Dribbling                     85\n",
              "Marking                       55\n",
              "SlideTackle                   30\n",
              "StandTackle                   32\n",
              "Aggression                    52\n",
              "Reactions                     81\n",
              "AttPosition                   85\n",
              "Interceptions                 29\n",
              "Vision                        85\n",
              "Composure                     80\n",
              "Crossing                      82\n",
              "ShortPass                     81\n",
              "LongPass                      73\n",
              "Acceleration                  83\n",
              "Stamina                       82\n",
              "Strength                      57\n",
              "Balance                       79\n",
              "SprintSpeed                   81\n",
              "Agility                       82\n",
              "Jumping                       72\n",
              "Heading                       60\n",
              "ShotPower                     80\n",
              "Finishing                     84\n",
              "LongShots                     81\n",
              "Curve                         74\n",
              "FKAcc                         71\n",
              "Penalties                     86\n",
              "Volleys                       73\n",
              "GKPositioning                 13\n",
              "GKDiving                      10\n",
              "GKHandling                     6\n",
              "GKKicking                     10\n",
              "GKReflexes                    11\n",
              "Name: 88, dtype: object"
            ]
          },
          "metadata": {},
          "execution_count": 29
        }
      ]
    },
    {
      "cell_type": "code",
      "source": [
        "\n",
        "JStones = data[data['Name'] =='John Stones']"
      ],
      "metadata": {
        "id": "h561Wv8dJIye"
      },
      "execution_count": 30,
      "outputs": []
    },
    {
      "cell_type": "code",
      "source": [
        "data =data.drop(['Name','Value','Wage'], axis=1)\n",
        "JStones=JStones.drop(['Name','Value','Wage'], axis=1)"
      ],
      "metadata": {
        "id": "mLH0Re5HrB8B"
      },
      "execution_count": 31,
      "outputs": []
    },
    {
      "cell_type": "code",
      "source": [
        "data=data.drop(['ID'],axis=1)"
      ],
      "metadata": {
        "id": "D_3SARB5sIH6"
      },
      "execution_count": 32,
      "outputs": []
    },
    {
      "cell_type": "code",
      "source": [
        "JStones = JStones.drop(['ID'],axis=1)"
      ],
      "metadata": {
        "id": "vDGkZW1dJZzt"
      },
      "execution_count": 34,
      "outputs": []
    },
    {
      "cell_type": "code",
      "source": [
        "from sklearn.impute import SimpleImputer\n",
        "from sklearn.linear_model import LogisticRegression\n",
        "from sklearn.model_selection import train_test_split\n",
        "from sklearn.metrics import accuracy_score\n",
        "from sklearn.calibration import CalibratedClassifierCV\n",
        "from sklearn.preprocessing import MinMaxScaler\n",
        "from sklearn.preprocessing import StandardScaler"
      ],
      "metadata": {
        "id": "v-ddGRGHrO0K"
      },
      "execution_count": 54,
      "outputs": []
    },
    {
      "cell_type": "code",
      "source": [
        "imputer = SimpleImputer(strategy='mean')\n",
        "data = pd.DataFrame(imputer.fit_transform(data), columns=data.columns)\n"
      ],
      "metadata": {
        "id": "7FzFN38SrTPh"
      },
      "execution_count": 36,
      "outputs": []
    },
    {
      "cell_type": "code",
      "source": [
        "X = data.drop(['PreferredPositions'], axis=1)\n",
        "y = data['PreferredPositions']\n"
      ],
      "metadata": {
        "id": "g3e3hHM6rWh7"
      },
      "execution_count": 37,
      "outputs": []
    },
    {
      "cell_type": "code",
      "source": [
        "scaler = StandardScaler() # i normalised my data by using StandardScaler\n",
        "X_scaled = scaler.fit_transform(X)\n",
        "X = pd.DataFrame(X_scaled, columns=X.columns)\n"
      ],
      "metadata": {
        "id": "ani3CtYcrbFU"
      },
      "execution_count": 38,
      "outputs": []
    },
    {
      "cell_type": "code",
      "source": [
        "X_train, X_test, y_train, y_test = train_test_split(X, y, test_size=0.2, random_state=42)\n"
      ],
      "metadata": {
        "id": "tAi389lwrfJ6"
      },
      "execution_count": 39,
      "outputs": []
    },
    {
      "cell_type": "code",
      "source": [
        "model = LogisticRegression()\n",
        "\n"
      ],
      "metadata": {
        "id": "ktUq7jnurjW4"
      },
      "execution_count": 59,
      "outputs": []
    },
    {
      "cell_type": "code",
      "source": [
        "calibrated_classifier = CalibratedClassifierCV(model) #just for testing predict_proba"
      ],
      "metadata": {
        "id": "avFQfdv0O-Kq"
      },
      "execution_count": 55,
      "outputs": []
    },
    {
      "cell_type": "code",
      "source": [
        "model.fit(X_train, y_train)"
      ],
      "metadata": {
        "colab": {
          "base_uri": "https://localhost:8080/",
          "height": 75
        },
        "id": "CekJIxYjrmQv",
        "outputId": "74447545-c51d-4848-aa1f-feed0ed7f0c4"
      },
      "execution_count": 60,
      "outputs": [
        {
          "output_type": "execute_result",
          "data": {
            "text/plain": [
              "LogisticRegression()"
            ],
            "text/html": [
              "<style>#sk-container-id-3 {color: black;background-color: white;}#sk-container-id-3 pre{padding: 0;}#sk-container-id-3 div.sk-toggleable {background-color: white;}#sk-container-id-3 label.sk-toggleable__label {cursor: pointer;display: block;width: 100%;margin-bottom: 0;padding: 0.3em;box-sizing: border-box;text-align: center;}#sk-container-id-3 label.sk-toggleable__label-arrow:before {content: \"▸\";float: left;margin-right: 0.25em;color: #696969;}#sk-container-id-3 label.sk-toggleable__label-arrow:hover:before {color: black;}#sk-container-id-3 div.sk-estimator:hover label.sk-toggleable__label-arrow:before {color: black;}#sk-container-id-3 div.sk-toggleable__content {max-height: 0;max-width: 0;overflow: hidden;text-align: left;background-color: #f0f8ff;}#sk-container-id-3 div.sk-toggleable__content pre {margin: 0.2em;color: black;border-radius: 0.25em;background-color: #f0f8ff;}#sk-container-id-3 input.sk-toggleable__control:checked~div.sk-toggleable__content {max-height: 200px;max-width: 100%;overflow: auto;}#sk-container-id-3 input.sk-toggleable__control:checked~label.sk-toggleable__label-arrow:before {content: \"▾\";}#sk-container-id-3 div.sk-estimator input.sk-toggleable__control:checked~label.sk-toggleable__label {background-color: #d4ebff;}#sk-container-id-3 div.sk-label input.sk-toggleable__control:checked~label.sk-toggleable__label {background-color: #d4ebff;}#sk-container-id-3 input.sk-hidden--visually {border: 0;clip: rect(1px 1px 1px 1px);clip: rect(1px, 1px, 1px, 1px);height: 1px;margin: -1px;overflow: hidden;padding: 0;position: absolute;width: 1px;}#sk-container-id-3 div.sk-estimator {font-family: monospace;background-color: #f0f8ff;border: 1px dotted black;border-radius: 0.25em;box-sizing: border-box;margin-bottom: 0.5em;}#sk-container-id-3 div.sk-estimator:hover {background-color: #d4ebff;}#sk-container-id-3 div.sk-parallel-item::after {content: \"\";width: 100%;border-bottom: 1px solid gray;flex-grow: 1;}#sk-container-id-3 div.sk-label:hover label.sk-toggleable__label {background-color: #d4ebff;}#sk-container-id-3 div.sk-serial::before {content: \"\";position: absolute;border-left: 1px solid gray;box-sizing: border-box;top: 0;bottom: 0;left: 50%;z-index: 0;}#sk-container-id-3 div.sk-serial {display: flex;flex-direction: column;align-items: center;background-color: white;padding-right: 0.2em;padding-left: 0.2em;position: relative;}#sk-container-id-3 div.sk-item {position: relative;z-index: 1;}#sk-container-id-3 div.sk-parallel {display: flex;align-items: stretch;justify-content: center;background-color: white;position: relative;}#sk-container-id-3 div.sk-item::before, #sk-container-id-3 div.sk-parallel-item::before {content: \"\";position: absolute;border-left: 1px solid gray;box-sizing: border-box;top: 0;bottom: 0;left: 50%;z-index: -1;}#sk-container-id-3 div.sk-parallel-item {display: flex;flex-direction: column;z-index: 1;position: relative;background-color: white;}#sk-container-id-3 div.sk-parallel-item:first-child::after {align-self: flex-end;width: 50%;}#sk-container-id-3 div.sk-parallel-item:last-child::after {align-self: flex-start;width: 50%;}#sk-container-id-3 div.sk-parallel-item:only-child::after {width: 0;}#sk-container-id-3 div.sk-dashed-wrapped {border: 1px dashed gray;margin: 0 0.4em 0.5em 0.4em;box-sizing: border-box;padding-bottom: 0.4em;background-color: white;}#sk-container-id-3 div.sk-label label {font-family: monospace;font-weight: bold;display: inline-block;line-height: 1.2em;}#sk-container-id-3 div.sk-label-container {text-align: center;}#sk-container-id-3 div.sk-container {/* jupyter's `normalize.less` sets `[hidden] { display: none; }` but bootstrap.min.css set `[hidden] { display: none !important; }` so we also need the `!important` here to be able to override the default hidden behavior on the sphinx rendered scikit-learn.org. See: https://github.com/scikit-learn/scikit-learn/issues/21755 */display: inline-block !important;position: relative;}#sk-container-id-3 div.sk-text-repr-fallback {display: none;}</style><div id=\"sk-container-id-3\" class=\"sk-top-container\"><div class=\"sk-text-repr-fallback\"><pre>LogisticRegression()</pre><b>In a Jupyter environment, please rerun this cell to show the HTML representation or trust the notebook. <br />On GitHub, the HTML representation is unable to render, please try loading this page with nbviewer.org.</b></div><div class=\"sk-container\" hidden><div class=\"sk-item\"><div class=\"sk-estimator sk-toggleable\"><input class=\"sk-toggleable__control sk-hidden--visually\" id=\"sk-estimator-id-5\" type=\"checkbox\" checked><label for=\"sk-estimator-id-5\" class=\"sk-toggleable__label sk-toggleable__label-arrow\">LogisticRegression</label><div class=\"sk-toggleable__content\"><pre>LogisticRegression()</pre></div></div></div></div></div>"
            ]
          },
          "metadata": {},
          "execution_count": 60
        }
      ]
    },
    {
      "cell_type": "code",
      "source": [
        "y_pred = model.predict(X_test)\n",
        "accuracy = accuracy_score(y_test, y_pred)\n",
        "print(\"Accuracy:\", accuracy)"
      ],
      "metadata": {
        "colab": {
          "base_uri": "https://localhost:8080/"
        },
        "id": "f4X6bECIrqL0",
        "outputId": "80b8240f-16e7-4de7-d79a-b489cc18c13e"
      },
      "execution_count": 61,
      "outputs": [
        {
          "output_type": "stream",
          "name": "stdout",
          "text": [
            "Accuracy: 0.9302832244008714\n"
          ]
        }
      ]
    },
    {
      "cell_type": "code",
      "source": [
        "JStones = JStones.drop(['PreferredPositions'], axis=1) #Jhon stones the player"
      ],
      "metadata": {
        "id": "Reo4aULGZY3e"
      },
      "execution_count": 44,
      "outputs": []
    },
    {
      "cell_type": "code",
      "source": [
        "model.predict(JStones)"
      ],
      "metadata": {
        "colab": {
          "base_uri": "https://localhost:8080/"
        },
        "id": "8p3nqJNULkVc",
        "outputId": "dbbb465f-5f90-4f59-fffa-8e79b16d9f78"
      },
      "execution_count": 58,
      "outputs": [
        {
          "output_type": "execute_result",
          "data": {
            "text/plain": [
              "array([[0., 1.]])"
            ]
          },
          "metadata": {},
          "execution_count": 58
        }
      ]
    }
  ]
}